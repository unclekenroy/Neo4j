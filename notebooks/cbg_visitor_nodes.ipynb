{
 "cells": [
  {
   "cell_type": "code",
   "execution_count": 1,
   "id": "b174daee",
   "metadata": {},
   "outputs": [
    {
     "name": "stderr",
     "output_type": "stream",
     "text": [
      "/Users/eho/.pyenv/versions/3.8.10/lib/python3.8/site-packages/pandas/compat/__init__.py:124: UserWarning: Could not import the lzma module. Your installed Python is incomplete. Attempting to use lzma compression will result in a RuntimeError.\n",
      "  warnings.warn(msg)\n"
     ]
    }
   ],
   "source": [
    "#This versions creates visitor nodes and cbg nodes. \n",
    "import pandas as pd #importing neccisary libraries \n",
    "import numpy as np\n",
    "import ast\n",
    "import datetime\n",
    "import calendar"
   ]
  },
  {
   "cell_type": "code",
   "execution_count": 15,
   "id": "bb0a95dc-2ed5-4895-8f26-aae1d442aa6b",
   "metadata": {},
   "outputs": [
    {
     "name": "stdout",
     "output_type": "stream",
     "text": [
      "/Users/eho/.pyenv/versions/3.8.10/bin/python3\n",
      "Requirement already satisfied: neo4j in /Users/eho/.pyenv/versions/3.8.10/lib/python3.8/site-packages (4.3.3)\n",
      "Requirement already satisfied: pytz in /Users/eho/.pyenv/versions/3.8.10/lib/python3.8/site-packages (from neo4j) (2021.1)\n"
     ]
    }
   ],
   "source": [
    "%%bash\n",
    "which python3\n",
    "python3 -m pip install neo4j"
   ]
  },
  {
   "cell_type": "code",
   "execution_count": 16,
   "id": "441bee19",
   "metadata": {},
   "outputs": [],
   "source": [
    "# you might have to change the uri to whatever pops up when you run neo\n",
    "#connect to neo4j database \n",
    "from neo4j import GraphDatabase \n",
    "driver = GraphDatabase.driver(uri=\"bolt://localhost:7687\", auth=(\"neo4j\", \"test\")) \n",
    "session = driver.session()"
   ]
  },
  {
   "cell_type": "code",
   "execution_count": 17,
   "id": "33a339a4",
   "metadata": {},
   "outputs": [],
   "source": [
    "df = pd.read_csv('../data/safegraph/jan.csv') # read csv to pandas"
   ]
  },
  {
   "cell_type": "code",
   "execution_count": 18,
   "id": "00292651",
   "metadata": {},
   "outputs": [],
   "source": [
    "#isolate specified colums will be changing them to more meanningful names\n",
    "miamiv = df.visits_by_day \n",
    "miamivv = df.visitor_home_cbgs"
   ]
  },
  {
   "cell_type": "code",
   "execution_count": 19,
   "id": "d3a622c3",
   "metadata": {},
   "outputs": [
    {
     "ename": "IndexError",
     "evalue": "string index out of range",
     "output_type": "error",
     "traceback": [
      "\u001b[0;31m---------------------------------------------------------------------------\u001b[0m",
      "\u001b[0;31mIndexError\u001b[0m                                Traceback (most recent call last)",
      "\u001b[0;32m<ipython-input-19-c7c7b292c760>\u001b[0m in \u001b[0;36m<module>\u001b[0;34m\u001b[0m\n\u001b[1;32m    121\u001b[0m                 \u001b[0mcounty\u001b[0m \u001b[0;34m=\u001b[0m \u001b[0mnode\u001b[0m\u001b[0;34m[\u001b[0m\u001b[0;36m2\u001b[0m\u001b[0;34m:\u001b[0m\u001b[0;36m5\u001b[0m\u001b[0;34m]\u001b[0m\u001b[0;34m\u001b[0m\u001b[0;34m\u001b[0m\u001b[0m\n\u001b[1;32m    122\u001b[0m                 \u001b[0mtract\u001b[0m \u001b[0;34m=\u001b[0m \u001b[0mnode\u001b[0m\u001b[0;34m[\u001b[0m\u001b[0;36m5\u001b[0m\u001b[0;34m:\u001b[0m\u001b[0;36m11\u001b[0m\u001b[0;34m]\u001b[0m\u001b[0;34m\u001b[0m\u001b[0;34m\u001b[0m\u001b[0m\n\u001b[0;32m--> 123\u001b[0;31m                 \u001b[0mblockGroup\u001b[0m \u001b[0;34m=\u001b[0m\u001b[0mnode\u001b[0m\u001b[0;34m[\u001b[0m\u001b[0;36m11\u001b[0m\u001b[0;34m]\u001b[0m\u001b[0;34m\u001b[0m\u001b[0;34m\u001b[0m\u001b[0m\n\u001b[0m\u001b[1;32m    124\u001b[0m \u001b[0;34m\u001b[0m\u001b[0m\n\u001b[1;32m    125\u001b[0m                 \u001b[0mqq1\u001b[0m\u001b[0;34m=\u001b[0m \u001b[0;34m'MERGE(g:CensusBG{cbg:'\u001b[0m\u001b[0;34m+\u001b[0m\u001b[0;34m\"'\"\u001b[0m \u001b[0;34m+\u001b[0m\u001b[0mnode\u001b[0m\u001b[0;34m+\u001b[0m\u001b[0;34m\"'\"\u001b[0m\u001b[0;34m+\u001b[0m \u001b[0;34m', State:'\u001b[0m\u001b[0;34m+\u001b[0m\u001b[0;34m\"'\"\u001b[0m\u001b[0;34m+\u001b[0m\u001b[0mstate\u001b[0m\u001b[0;34m+\u001b[0m\u001b[0;34m\"'\"\u001b[0m\u001b[0;34m+\u001b[0m\u001b[0;34m' , County:'\u001b[0m\u001b[0;34m+\u001b[0m\u001b[0;34m\"'\"\u001b[0m\u001b[0;34m+\u001b[0m\u001b[0mcounty\u001b[0m\u001b[0;34m+\u001b[0m\u001b[0;34m\"'\"\u001b[0m\u001b[0;34m+\u001b[0m\u001b[0;34m', Tract:'\u001b[0m\u001b[0;34m+\u001b[0m\u001b[0;34m\"'\"\u001b[0m\u001b[0;34m+\u001b[0m\u001b[0mtract\u001b[0m\u001b[0;34m+\u001b[0m\u001b[0;34m\"'\"\u001b[0m\u001b[0;34m+\u001b[0m\u001b[0;34m', BlockGroup:'\u001b[0m\u001b[0;34m+\u001b[0m\u001b[0;34m\"'\"\u001b[0m\u001b[0;34m+\u001b[0m\u001b[0mblockGroup\u001b[0m\u001b[0;34m+\u001b[0m\u001b[0;34m\"'\"\u001b[0m\u001b[0;34m+\u001b[0m\u001b[0;34m' })'\u001b[0m\u001b[0;34m\u001b[0m\u001b[0;34m\u001b[0m\u001b[0m\n",
      "\u001b[0;31mIndexError\u001b[0m: string index out of range"
     ]
    }
   ],
   "source": [
    "# Will add another part to have all the csv be read at once so I do not have to keep loading it.\n",
    "#This for loop creates and loads all nodes and edges\n",
    "\n",
    "#len(df)\n",
    "#this for loop I am createing all the places and cities and zips\n",
    "for i in range(len(df)):\n",
    "    #setting variables that I will use to create the nodes. \n",
    "    pk= df.placekey[i]\n",
    "    name = df.location_name[i]\n",
    "    zipc= df.postal_code[i]\n",
    "    address= df.street_address[i]\n",
    "    lat= df.latitude[i]\n",
    "    long= df.longitude[i]\n",
    "    topCat= df.top_category[i]\n",
    "    subCat= df.sub_category[i]\n",
    "    city= df.city[i]\n",
    "    poicbg = df.poi_cbg[i]\n",
    "    \n",
    "    #These are the queries that I will pass to neo4j that will create all the place, city and zip nodes    \n",
    "    q1='MERGE(p:Place{name:'+'\"'+name+'\"' +', city:'+'\"' +city+'\"'+', zipcode:'+\"'\" +str(zipc)+\"'\" +', placeKey:'+\"'\" +pk+\"'\" +', address:'+'\"' +address+'\"' +', topCatagory:'+'\"'+str(topCat)+'\"'+', subCatagory:'+'\"'+str(subCat)+'\"' +', cbg: '+\"'\" +str(poicbg) +\"'\" +', location:point({x:toFloat('+str(lat)+'),y:toFloat('+str(long)+')})})'\n",
    "    q2='MERGE(z:Zip{name: '+\"'\" +str(zipc)+\"'\" +', zipC:'+\"'\"+str(zipc)+\"'\"+', city:'+\"'\" +city+\"'\"+'});'\n",
    "    q3='MERGE(c:City{name: '+'\"' +city+'\"'+',  city:'+\"'\" +city+\"'\"+'});'\n",
    "    q4='MATCH (p:Place), (z:Zip) WHERE p.name = '+'\"' +name +'\"' + 'AND p.city = '+\"'\" + city +\"'\"+ 'AND z.city = '+\"'\" +city+\"'\" + 'AND p.zipcode = '+\"'\" +str(zipc)+\"'\" +' AND z.name = '+\"'\" +str(zipc)+\"'\" +' MERGE(p)-[r:IS_WITHIN]->(z);'\n",
    "    q5='MATCH (c:City), (z:Zip) WHERE c.name = '+'\"' +city +'\"' +' AND z.city = '+\"'\" +city+\"'\" + ' AND z.name = '+\"'\" +str(zipc)+\"'\" +' MERGE(z)-[r:IS_WITHIN]->(c);'\n",
    "    #Match staments are the edges that connect the two nodes\n",
    "    \n",
    "    #running the querries \n",
    "    session.run(q1)\n",
    "    session.run(q2)\n",
    "    session.run(q3)\n",
    "    session.run(q4)\n",
    "    session.run(q5)\n",
    "    #print(q5)\n",
    "    \n",
    "  \n",
    "    \n",
    "    \n",
    "     # miamiv =  df.visits_by_day \n",
    "    \n",
    "    #string ->dictionary-> nparray\n",
    "    \n",
    "    if((type(miamiv[i]) == float) == True):\n",
    "        itt= 0\n",
    "    \n",
    "    else:\n",
    "        miami3 = miamiv[i]\n",
    "        testnp = ast.literal_eval(miami3)\n",
    "        \n",
    "        itt = len(testnp)\n",
    "                \n",
    "        #test=ast.literal_eval(miamiv[i])\n",
    "        #test2 = list(test.items())\n",
    "        #testnp = np.array(test2)\n",
    "        #itt = len(testnp)\n",
    "        \n",
    "    \n",
    "        dates= df.date_range_start[i]\n",
    "    \n",
    "        #parsing the date month and year\n",
    "        year=dates[:4]\n",
    "        month=dates[5:7]\n",
    "        day=dates[8:10]\n",
    "    \n",
    "    if itt != 0:\n",
    "        #range(itt)\n",
    "        for x in range(itt):\n",
    "            #here I am creating visitor nodes \n",
    "            if (testnp[x] == 0):\n",
    "                nothing =\"\"\n",
    "            else: \n",
    "                \n",
    "                ndate = int(day) +x\n",
    "                visits = testnp[x] \n",
    "                date = \"\"+str(month)+\"/\"+str(ndate)+\"/\"+str(year)+\"\"\n",
    "                monthName = calendar.month_name[int(month)]\n",
    "                weekDay= datetime.date(int(year),int(month),(int(day)+x)).strftime('%A')\n",
    "            \n",
    "                qqq1= 'MERGE(v:Visitor{month:'+\"'\" +str(monthName)+\"'\" +', day:'+str(ndate)+', year:'+str(year)+', weekDay:'+\"'\" +str(weekDay)+\"'\" +', date:'+\"'\" +str(date)+\"'\" +', size:'+str(visits)+', placeKey:'+\"'\" +str(pk) +\"'\" +' })'\n",
    "                qqq2 ='MATCH (p:Place), (v:Visitor) WHERE p.placeKey = '+\"'\" +pk +\"'\" + ' AND v.date = '+\"'\" + str(date)+\"'\"   +' AND v.placeKey = '+\"'\" +pk +\"'\" +' MERGE(v)-[r:VISITED]->(p)'\n",
    "                #print(qq1)\n",
    "            \n",
    "                session.run(qqq1) #remeber to change the 0 to i\n",
    "                session.run(qqq2)\n",
    "                #print(qq1)\n",
    "                \n",
    "                \n",
    "                \n",
    "         # miamivv =  df.visitor_home_cbgs\n",
    "        #json ->dictionary-> nparray\n",
    "        if((type(miamivv[i]) == float) == True):\n",
    "             iti= 0\n",
    "    \n",
    "        else:\n",
    "            test=ast.literal_eval(miamivv[i])\n",
    "            test2 = list(test.items())\n",
    "            testnpp = np.array(test2)\n",
    "            iti = len(testnpp)\n",
    "        \n",
    "       \n",
    "        if iti != 0:\n",
    "            \n",
    "            da=0\n",
    "            dasum=0\n",
    "            percentage = []\n",
    "            for x in range(iti):\n",
    "                \n",
    "                da = int(testnpp[x][1])   \n",
    "                dasum += da # sum \n",
    "                percentage =[]\n",
    "\n",
    "            for j in range(len(testnpp)):\n",
    "                #here I am createing Census block nodes and connecting them with the places they have been. \n",
    "                odds = (float((testnpp[j][1]))/dasum)  \n",
    "                percentage += [odds]\n",
    "                p1= (str(float(percentage[j] *100))+'%')\n",
    "\n",
    "                node= testnpp[j][0] # this is the keys\n",
    "                prop= testnpp[j][1] # this is the values\n",
    "                \n",
    "                state = node[:2]\n",
    "                county = node[2:5]\n",
    "                tract = node[5:11]\n",
    "                blockGroup =node[11]\n",
    "                \n",
    "                qq1= 'MERGE(g:CensusBG{cbg:'+\"'\" +node+\"'\"+ ', State:'+\"'\"+state+\"'\"+' , County:'+\"'\"+county+\"'\"+', Tract:'+\"'\"+tract+\"'\"+', BlockGroup:'+\"'\"+blockGroup+\"'\"+' })'\n",
    "                qq2 ='MATCH (p:Place), (g:CensusBG) WHERE p.placeKey = '+\"'\" +pk +\"'\"  +' AND g.cbg = '+\"'\" +node+\"'\" +' MERGE(g)-[b:Visited{ PercentofVisits:'+\"'\"+p1+\"'\"+'}]->(p)'\n",
    "                session.run(qq1) #remeber to change the 0 to i\n",
    "                session.run(qq2)\n",
    "            #print(qq2)"
   ]
  },
  {
   "cell_type": "code",
   "execution_count": null,
   "id": "loved-insider",
   "metadata": {},
   "outputs": [],
   "source": [
    "#Also if you stop the kernel you will have to re run the parts where you connect to neo"
   ]
  }
 ],
 "metadata": {
  "kernelspec": {
   "display_name": "Python 3",
   "language": "python",
   "name": "python3"
  },
  "language_info": {
   "codemirror_mode": {
    "name": "ipython",
    "version": 3
   },
   "file_extension": ".py",
   "mimetype": "text/x-python",
   "name": "python",
   "nbconvert_exporter": "python",
   "pygments_lexer": "ipython3",
   "version": "3.8.10"
  }
 },
 "nbformat": 4,
 "nbformat_minor": 5
}
