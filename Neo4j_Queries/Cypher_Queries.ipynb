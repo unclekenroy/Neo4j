{
 "cells": [
  {
   "cell_type": "code",
   "execution_count": 1,
   "id": "e674ffb8",
   "metadata": {},
   "outputs": [],
   "source": [
    "#This versions creates visitor nodes and cbg nodes. \n",
    "import pandas as pd #importing neccisary libraries \n",
    "import numpy as np\n"
   ]
  },
  {
   "cell_type": "code",
   "execution_count": 2,
   "id": "d6d196ae",
   "metadata": {},
   "outputs": [],
   "source": [
    "# you might have to change the uri to whatever pops up when you run neo\n",
    "#connect to neo4j database \n",
    "from neo4j import GraphDatabase \n",
    "driver = GraphDatabase.driver(uri=\"bolt://localhost:7687\", auth=(\"neo4j\", \"password\")) \n",
    "session = driver.session()"
   ]
  },
  {
   "cell_type": "code",
   "execution_count": 15,
   "id": "7f77b7ff",
   "metadata": {},
   "outputs": [
    {
     "ename": "AttributeError",
     "evalue": "'Session' object has no attribute 'query'",
     "output_type": "error",
     "traceback": [
      "\u001b[1;31m---------------------------------------------------------------------------\u001b[0m",
      "\u001b[1;31mAttributeError\u001b[0m                            Traceback (most recent call last)",
      "\u001b[1;32m<ipython-input-15-3c9de556b54c>\u001b[0m in \u001b[0;36m<module>\u001b[1;34m\u001b[0m\n\u001b[0;32m      1\u001b[0m \u001b[1;31m#this allows me to just do results() and put the variable inside and set results equall to another variable\u001b[0m\u001b[1;33m\u001b[0m\u001b[1;33m\u001b[0m\u001b[1;33m\u001b[0m\u001b[0m\n\u001b[1;32m----> 2\u001b[1;33m \u001b[0mresults\u001b[0m \u001b[1;33m=\u001b[0m \u001b[0msession\u001b[0m\u001b[1;33m.\u001b[0m\u001b[0mquery\u001b[0m\u001b[1;33m(\u001b[0m\u001b[1;33m)\u001b[0m\u001b[1;33m\u001b[0m\u001b[1;33m\u001b[0m\u001b[0m\n\u001b[0m",
      "\u001b[1;31mAttributeError\u001b[0m: 'Session' object has no attribute 'query'"
     ]
    }
   ],
   "source": [
    "#To check the correct month you would have to change the date and possibly year\n",
    "#My reccomendation is have a loop that iterates throught the number of months"
   ]
  },
  {
   "cell_type": "code",
   "execution_count": 23,
   "id": "43e28051",
   "metadata": {
    "scrolled": true
   },
   "outputs": [
    {
     "data": {
      "text/html": [
       "<div>\n",
       "<style scoped>\n",
       "    .dataframe tbody tr th:only-of-type {\n",
       "        vertical-align: middle;\n",
       "    }\n",
       "\n",
       "    .dataframe tbody tr th {\n",
       "        vertical-align: top;\n",
       "    }\n",
       "\n",
       "    .dataframe thead th {\n",
       "        text-align: right;\n",
       "    }\n",
       "</style>\n",
       "<table border=\"1\" class=\"dataframe\">\n",
       "  <thead>\n",
       "    <tr style=\"text-align: right;\">\n",
       "      <th></th>\n",
       "      <th>0</th>\n",
       "      <th>1</th>\n",
       "    </tr>\n",
       "  </thead>\n",
       "  <tbody>\n",
       "    <tr>\n",
       "      <th>0</th>\n",
       "      <td>Restaurants and Other Eating Places</td>\n",
       "      <td>18337</td>\n",
       "    </tr>\n",
       "    <tr>\n",
       "      <th>1</th>\n",
       "      <td>Support Activities for Air Transportation</td>\n",
       "      <td>17840</td>\n",
       "    </tr>\n",
       "    <tr>\n",
       "      <th>2</th>\n",
       "      <td>Traveler Accommodation</td>\n",
       "      <td>13645</td>\n",
       "    </tr>\n",
       "    <tr>\n",
       "      <th>3</th>\n",
       "      <td>Museums, Historical Sites, and Similar Institu...</td>\n",
       "      <td>9894</td>\n",
       "    </tr>\n",
       "    <tr>\n",
       "      <th>4</th>\n",
       "      <td>Lessors of Real Estate</td>\n",
       "      <td>8769</td>\n",
       "    </tr>\n",
       "    <tr>\n",
       "      <th>5</th>\n",
       "      <td>Other Amusement and Recreation Industries</td>\n",
       "      <td>8619</td>\n",
       "    </tr>\n",
       "    <tr>\n",
       "      <th>6</th>\n",
       "      <td>Drinking Places (Alcoholic Beverages)</td>\n",
       "      <td>7017</td>\n",
       "    </tr>\n",
       "    <tr>\n",
       "      <th>7</th>\n",
       "      <td>Gasoline Stations</td>\n",
       "      <td>5242</td>\n",
       "    </tr>\n",
       "    <tr>\n",
       "      <th>8</th>\n",
       "      <td>Other Miscellaneous Store Retailers</td>\n",
       "      <td>4985</td>\n",
       "    </tr>\n",
       "    <tr>\n",
       "      <th>9</th>\n",
       "      <td>Grocery Stores</td>\n",
       "      <td>4982</td>\n",
       "    </tr>\n",
       "  </tbody>\n",
       "</table>\n",
       "</div>"
      ],
      "text/plain": [
       "                                                   0      1\n",
       "0                Restaurants and Other Eating Places  18337\n",
       "1          Support Activities for Air Transportation  17840\n",
       "2                             Traveler Accommodation  13645\n",
       "3  Museums, Historical Sites, and Similar Institu...   9894\n",
       "4                             Lessors of Real Estate   8769\n",
       "5          Other Amusement and Recreation Industries   8619\n",
       "6              Drinking Places (Alcoholic Beverages)   7017\n",
       "7                                  Gasoline Stations   5242\n",
       "8                Other Miscellaneous Store Retailers   4985\n",
       "9                                     Grocery Stores   4982"
      ]
     },
     "execution_count": 23,
     "metadata": {},
     "output_type": "execute_result"
    }
   ],
   "source": [
    "#q1 This query sort by number of cbgs and displays the top category along with the total number of cbgs for this month TopCat, size\n",
    "q1 =\"match (n:CensusBG)-[r:Visited]->(p:Place) where r.month =\"+'\"'+\"February\"+'\"'+\" and r.year=2020 return p.topCatagory as Category, size(collect(distinct n)) as numOfCbgs order by numOfCbgs desc limit 10\"\n",
    "\n",
    "a =session.run(q1)\n",
    "pd.DataFrame(a)"
   ]
  },
  {
   "cell_type": "code",
   "execution_count": null,
   "id": "9c5867c0",
   "metadata": {},
   "outputs": [],
   "source": [
    "#q2 this query sort by number of cbgs and displays the top category along with the total number of cbgs coming from the same state but a different county TopCat, size\n",
    "q2 = '''\n",
    "match (n:CensusBG)-[r:Visited]->(p:Place) where r.month =\"February\" and r.year=2020 and n.State=\"12\" and n.County<>\"086\"\n",
    "   \n",
    "   return p.topCatagory as Category, size(collect(distinct n)) as numOfCbgs\n",
    "   order by numOfCbgs desc limit 10\n",
    "'''\n",
    "a =session.run(q2)\n",
    "pd.DataFrame(a)"
   ]
  },
  {
   "cell_type": "code",
   "execution_count": null,
   "id": "adc482c0",
   "metadata": {},
   "outputs": [],
   "source": [
    "#q3 is the top for in state and in county TopCat, size\n",
    "q3 = '''\n",
    "match (n:CensusBG)-[r:Visited]->(p:Place) where r.month =\"February\" and r.year=2020 and n.State=\"12\" and n.County=\"086\"\n",
    "   \n",
    "   return p.topCatagory as Category, size(collect(distinct n)) as numOfCbgs\n",
    "   order by numOfCbgs desc limit 10\n",
    "'''\n",
    "a =session.run(q3)\n",
    "pd.DataFrame(a)"
   ]
  },
  {
   "cell_type": "code",
   "execution_count": null,
   "id": "1317b0b3",
   "metadata": {},
   "outputs": [],
   "source": [
    "#q4 this is for people outside of state. TopCat, size\n",
    "q4 = '''\n",
    "match (n:CensusBG)-[r:Visited]->(p:Place) where r.month =\"February\" and r.year=2020 and n.State<>\"12\"\n",
    "   \n",
    "   return p.topCatagory as Category, size(collect(distinct n)) as numOfCbgs\n",
    "   order by numOfCbgs desc limit 10\n",
    "'''\n",
    "a =session.run(q4)\n",
    "pd.DataFrame(a)"
   ]
  },
  {
   "cell_type": "code",
   "execution_count": null,
   "id": "420159aa",
   "metadata": {},
   "outputs": [],
   "source": [
    "#q5 This query sort by number of cbgs and displays the top category along with the total number of cbgs for this month SubCat, size\n",
    "q5 = '''\n",
    "match (n:CensusBG)-[r:Visited]->(p:Place) where r.month =\"February\" and r.year=2020 \n",
    "   \n",
    "   return p.subCatagory as Category, size(collect(distinct n)) as numOfCbgs\n",
    "   order by numOfCbgs desc limit 10\n",
    "'''\n",
    "a =session.run(q5)\n",
    "pd.DataFrame(a)"
   ]
  },
  {
   "cell_type": "code",
   "execution_count": null,
   "id": "b65af5f6",
   "metadata": {},
   "outputs": [],
   "source": [
    "#q2 this query sort by number of cbgs and displays the top category along with the total number of cbgs coming from the same state but a different county SubCat, size\n",
    "q6 = '''\n",
    "match (n:CensusBG)-[r:Visited]->(p:Place) where r.month =\"February\" and r.year=2020 and n.State=\"12\" and n.County<>\"086\"\n",
    "   \n",
    "   return p.subCatagory as Category, size(collect(distinct n)) as numOfCbgs\n",
    "   order by numOfCbgs desc limit 10\n",
    "'''\n",
    "a =session.run(q6)\n",
    "pd.DataFrame(a)"
   ]
  },
  {
   "cell_type": "code",
   "execution_count": null,
   "id": "7259f330",
   "metadata": {},
   "outputs": [],
   "source": [
    "#q7 is the top for in state and in county SubCat, size\n",
    "q7 = '''\n",
    "match (n:CensusBG)-[r:Visited]->(p:Place) where r.month =\"February\" and r.year=2020 and n.State=\"12\" and n.County=\"086\"\n",
    "   \n",
    "   return p.subCatagory as Category, size(collect(distinct n)) as numOfCbgs\n",
    "   order by numOfCbgs desc limit 10\n",
    "'''\n",
    "a =session.run(q7)\n",
    "pd.DataFrame(a)"
   ]
  },
  {
   "cell_type": "code",
   "execution_count": null,
   "id": "78624377",
   "metadata": {},
   "outputs": [],
   "source": [
    "#q8 #q4 this is for people outside of state. SubCat, size\n",
    "q8 = '''\n",
    "match (n:CensusBG)-[r:Visited]->(p:Place) where r.month =\"February\" and r.year=2020 and n.State<>\"12\"\n",
    "   \n",
    "   return p.subCatagory as Category, size(collect(distinct n)) as numOfCbgs\n",
    "   order by numOfCbgs desc limit 10\n",
    "'''\n",
    "a =session.run(q8)\n",
    "pd.DataFrame(a)"
   ]
  },
  {
   "cell_type": "code",
   "execution_count": null,
   "id": "87348c57",
   "metadata": {},
   "outputs": [],
   "source": [
    "#q9 This shows the top 20 places specified designated month and year\n",
    "q9='''\n",
    "match (n:CensusBG)-[r:Visited]->(p:Place) where r.month =\"February\"  and r.year = 2020   \n",
    "     \n",
    "    return  p.name, sum(r.EstimatedVisits) as total  \n",
    "    order by total desc limit 20\n",
    "'''\n",
    "a =session.run(q9)\n",
    "pd.DataFrame(a)"
   ]
  },
  {
   "cell_type": "code",
   "execution_count": null,
   "id": "cb637785",
   "metadata": {},
   "outputs": [],
   "source": [
    "#q10 This shows the top 20 places specified designated month and year\n",
    "q10='''\n",
    "match (n:CensusBG)-[r:Visited]->(p:Place) where r.month =\"April\"  and r.year = 2020   \n",
    "     \n",
    "    return  p.name, sum(r.EstimatedVisits) as total  \n",
    "    order by total desc limit 20\n",
    "'''\n",
    "a =session.run(q10)\n",
    "pd.DataFrame(a)"
   ]
  },
  {
   "cell_type": "code",
   "execution_count": null,
   "id": "12046fbe",
   "metadata": {},
   "outputs": [],
   "source": [
    "#q11 This shows the top 20 places specified designated month and year\n",
    "q11='''\n",
    "match (n:CensusBG)-[r:Visited]->(p:Place) where r.month =\"July\"  and r.year = 2020   \n",
    "     \n",
    "    return  p.name, sum(r.EstimatedVisits) as total  \n",
    "    order by total desc limit 20\n",
    "'''\n",
    "a =session.run(q11)\n",
    "pd.DataFrame(a)"
   ]
  },
  {
   "cell_type": "code",
   "execution_count": null,
   "id": "19c2b810",
   "metadata": {},
   "outputs": [],
   "source": [
    "#q12 This shows the top 20 places specified designated month and year\n",
    "q12='''\n",
    "match (n:CensusBG)-[r:Visited]->(p:Place) where r.month =\"May\"  and r.year = 2021   \n",
    "     \n",
    "    return  p.name, sum(r.EstimatedVisits) as total  \n",
    "    order by total desc limit 20\n",
    "'''\n",
    "a =session.run(q12)\n",
    "pd.DataFrame(a)"
   ]
  },
  {
   "cell_type": "code",
   "execution_count": null,
   "id": "bd5b6af8",
   "metadata": {},
   "outputs": [],
   "source": [
    "#q13 This shows the top 20 Categorys specified designated month and year\n",
    "q13='''\n",
    "match (n:CensusBG)-[r:Visited]->(p:Place) where r.month =\"July\"  and r.year = 2020   \n",
    "     \n",
    "    return  p.topCatagory , sum(r.EstimatedVisits) as total  \n",
    "    order by total desc limit 20\n",
    "'''\n",
    "a =session.run(q13)\n",
    "pd.DataFrame(a)"
   ]
  },
  {
   "cell_type": "code",
   "execution_count": null,
   "id": "d23905de",
   "metadata": {},
   "outputs": [],
   "source": [
    "#q14 This queries takes the top 10-20 places that share the most amount of cbgs for the specified month and year\n",
    "q14='''\n",
    "MATCH (n:Place)\n",
    "CALL {\n",
    " WITH n\n",
    " MATCH (n)<-[r:Visited{month: \"February\"}]-(c:CensusBG)-[b:Visited{month: \"February\"}]->(m:Place) \n",
    " WHERE id(n) < id(m)\n",
    " RETURN n.name as name1,  m.name as name2, count(c) as cnt\n",
    "}\n",
    "RETURN name1, name2, cnt\n",
    "ORDER BY cnt DESC\n",
    "LIMIT 10\n",
    "\n",
    "'''\n",
    "a =session.run(q14)\n",
    "pd.DataFrame(a)"
   ]
  },
  {
   "cell_type": "code",
   "execution_count": null,
   "id": "3030a28b",
   "metadata": {},
   "outputs": [],
   "source": [
    "#q15 This queries takes the top 10-20 places that share the most amount of cbgs for the specified month and year\n",
    "q15='''\n",
    "MATCH (n:Place)\n",
    "CALL {\n",
    " WITH n\n",
    " MATCH (n)<-[r:Visited{month: \"April\"}]-(c:CensusBG)-[b:Visited{month: \"April\"}]->(m:Place) \n",
    " WHERE id(n) < id(m)\n",
    " RETURN n.name as name1,  m.name as name2, count(c) as cnt\n",
    "}\n",
    "RETURN name1, name2, cnt\n",
    "ORDER BY cnt DESC\n",
    "LIMIT 10\n",
    "\n",
    "'''\n",
    "a =session.run(q15)\n",
    "pd.DataFrame(a)"
   ]
  },
  {
   "cell_type": "code",
   "execution_count": null,
   "id": "9af2f6e0",
   "metadata": {},
   "outputs": [],
   "source": [
    "#q16 This queries takes the top 10-20 places that share the most amount of cbgs for the specified month and year\n",
    "q16='''\n",
    "MATCH (n:Place)\n",
    "CALL {\n",
    " WITH n\n",
    " MATCH (n)<-[r:Visited{month: \"July\"}]-(c:CensusBG)-[b:Visited{month: \"July\"}]->(m:Place) \n",
    " WHERE id(n) < id(m)\n",
    " RETURN n.name as name1,  m.name as name2, count(c) as cnt\n",
    "}\n",
    "RETURN name1, name2, cnt\n",
    "ORDER BY cnt DESC\n",
    "LIMIT 10\n",
    "\n",
    "'''\n",
    "a =session.run(q16)\n",
    "pd.DataFrame(a)"
   ]
  },
  {
   "cell_type": "code",
   "execution_count": 2,
   "id": "43115a76",
   "metadata": {},
   "outputs": [],
   "source": [
    "#q17 This queries takes the top 10-20 places that share the most amount of cbgs for the specified month and year\n",
    "q17='''\n",
    "MATCH (n:Place)\n",
    "CALL {\n",
    " WITH n\n",
    " MATCH (n)<-[r:Visited{month: \"May\"}]-(c:CensusBG)-[b:Visited{month: \"May\"}]->(m:Place) \n",
    " WHERE id(n) < id(m)\n",
    " RETURN n.name as name1,  m.name as name2, count(c) as cnt\n",
    "}\n",
    "RETURN name1, name2, cnt\n",
    "ORDER BY cnt DESC\n",
    "LIMIT 10\n",
    "\n",
    "'''\n",
    "a =session.run(q17)\n",
    "pd.DataFrame(a)"
   ]
  },
  {
   "cell_type": "code",
   "execution_count": null,
   "id": "d1ef6129",
   "metadata": {},
   "outputs": [],
   "source": [
    "#q18 Highest Average of Visits Feb/2020 , Topcat, and Average\n",
    "q18='''\n",
    "match (n:CensusBG)-[r:Visited]->(p:Place) where r.month =\"February\"\n",
    "   \n",
    "    return p.topCatagory, avg(r.EstimatedVisits) as mean,  max(r.EstimatedVisits) , sum(r.EstimatedVisits), count(r)\n",
    "    order by mean desc limit 10\n",
    "'''\n",
    "a =session.run(q18)\n",
    "pd.DataFrame(a)"
   ]
  },
  {
   "cell_type": "code",
   "execution_count": 1,
   "id": "8a2ad9b4",
   "metadata": {},
   "outputs": [],
   "source": [
    "#q19 this query return nurisng home category, the number of cbgs, the number of visits, and the top category that have the most shared census block groups. \n",
    "q19='''\n",
    "match(n:Place)<-[r:Visited]-(c:CensusBG)-[b:Visited]->(p:Place)\n",
    "where n.topCatagory = \"Nursing Care Facilities (Skilled Nursing Facilities)\" and r.month= \"February\" and b.month= \"February\" and p.topCatagory = \"Grocery Stores\" \n",
    "\n",
    "return n.topCatagory,  p.topCatagory , size(collect (distinct c)) as sharedcbgs , sum(r.EstimatedVisits) as cbg2p1,  sum(b.EstimatedVisits) as cbg2p2\n",
    "order by sharedcbgs desc limit 10\n",
    "\n",
    "'''\n",
    "a =session.run(q19)\n",
    "pd.DataFrame(a)"
   ]
  },
  {
   "cell_type": "code",
   "execution_count": 2,
   "id": "c9ac4fa2",
   "metadata": {},
   "outputs": [
    {
     "ename": "SyntaxError",
     "evalue": "invalid syntax (<ipython-input-2-74e077042be5>, line 4)",
     "output_type": "error",
     "traceback": [
      "\u001b[1;36m  File \u001b[1;32m\"<ipython-input-2-74e077042be5>\"\u001b[1;36m, line \u001b[1;32m4\u001b[0m\n\u001b[1;33m    MATCH (p:Paper)\u001b[0m\n\u001b[1;37m            ^\u001b[0m\n\u001b[1;31mSyntaxError\u001b[0m\u001b[1;31m:\u001b[0m invalid syntax\n"
     ]
    }
   ],
   "source": []
  },
  {
   "cell_type": "code",
   "execution_count": null,
   "id": "651b3356",
   "metadata": {},
   "outputs": [],
   "source": []
  }
 ],
 "metadata": {
  "kernelspec": {
   "display_name": "Python 3",
   "language": "python",
   "name": "python3"
  },
  "language_info": {
   "codemirror_mode": {
    "name": "ipython",
    "version": 3
   },
   "file_extension": ".py",
   "mimetype": "text/x-python",
   "name": "python",
   "nbconvert_exporter": "python",
   "pygments_lexer": "ipython3",
   "version": "3.8.5"
  }
 },
 "nbformat": 4,
 "nbformat_minor": 5
}
